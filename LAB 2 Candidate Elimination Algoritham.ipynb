{
 "cells": [
  {
   "cell_type": "code",
   "execution_count": 5,
   "metadata": {
    "execution": {
     "iopub.execute_input": "2022-02-09T05:11:07.518764Z",
     "iopub.status.busy": "2022-02-09T05:11:07.51845Z",
     "iopub.status.idle": "2022-02-09T05:11:07.523208Z",
     "shell.execute_reply": "2022-02-09T05:11:07.522367Z",
     "shell.execute_reply.started": "2022-02-09T05:11:07.518727Z"
    }
   },
   "outputs": [],
   "source": [
    "import numpy as np # linear algebra\n",
    "import pandas as pd # data processing, CSV file I/O (e.g. pd.read_csv)"
   ]
  },
  {
   "cell_type": "code",
   "execution_count": 6,
   "metadata": {
    "execution": {
     "iopub.execute_input": "2022-02-09T05:11:43.558268Z",
     "iopub.status.busy": "2022-02-09T05:11:43.557826Z",
     "iopub.status.idle": "2022-02-09T05:11:43.563629Z",
     "shell.execute_reply": "2022-02-09T05:11:43.563064Z",
     "shell.execute_reply.started": "2022-02-09T05:11:43.558217Z"
    }
   },
   "outputs": [
    {
     "name": "stdout",
     "output_type": "stream",
     "text": [
      "<module 'numpy' from 'C:\\\\Users\\\\kumar\\\\anaconda3\\\\lib\\\\site-packages\\\\numpy\\\\__init__.py'>\n",
      "<module 'pandas' from 'C:\\\\Users\\\\kumar\\\\anaconda3\\\\lib\\\\site-packages\\\\pandas\\\\__init__.py'>\n"
     ]
    }
   ],
   "source": [
    "print (np)\n",
    "print(pd)"
   ]
  },
  {
   "cell_type": "code",
   "execution_count": 8,
   "metadata": {
    "execution": {
     "iopub.execute_input": "2022-02-09T04:52:27.015451Z",
     "iopub.status.busy": "2022-02-09T04:52:27.015019Z",
     "iopub.status.idle": "2022-02-09T04:52:27.025117Z",
     "shell.execute_reply": "2022-02-09T04:52:27.024307Z",
     "shell.execute_reply.started": "2022-02-09T04:52:27.015414Z"
    }
   },
   "outputs": [],
   "source": [
    "import os\n",
    "for dirname, _, filenames in os.walk(r'C:\\Users\\kumar\\Desktop\\DataSet\\2-5\\2\\lab2.csv'):\n",
    "    for filename in filenames:\n",
    "        print(os.path.join(dirname, filename))"
   ]
  },
  {
   "cell_type": "code",
   "execution_count": 10,
   "metadata": {
    "execution": {
     "iopub.execute_input": "2022-02-09T04:54:14.146054Z",
     "iopub.status.busy": "2022-02-09T04:54:14.145781Z",
     "iopub.status.idle": "2022-02-09T04:54:14.155057Z",
     "shell.execute_reply": "2022-02-09T04:54:14.154321Z",
     "shell.execute_reply.started": "2022-02-09T04:54:14.146023Z"
    }
   },
   "outputs": [],
   "source": [
    "data = pd.read_csv(r'C:\\Users\\kumar\\Desktop\\DataSet\\2-5\\2\\lab2.csv')"
   ]
  },
  {
   "cell_type": "code",
   "execution_count": 11,
   "metadata": {
    "execution": {
     "iopub.execute_input": "2022-02-09T04:54:17.156946Z",
     "iopub.status.busy": "2022-02-09T04:54:17.156649Z",
     "iopub.status.idle": "2022-02-09T04:54:17.168612Z",
     "shell.execute_reply": "2022-02-09T04:54:17.168037Z",
     "shell.execute_reply.started": "2022-02-09T04:54:17.156912Z"
    }
   },
   "outputs": [
    {
     "data": {
      "text/html": [
       "<div>\n",
       "<style scoped>\n",
       "    .dataframe tbody tr th:only-of-type {\n",
       "        vertical-align: middle;\n",
       "    }\n",
       "\n",
       "    .dataframe tbody tr th {\n",
       "        vertical-align: top;\n",
       "    }\n",
       "\n",
       "    .dataframe thead th {\n",
       "        text-align: right;\n",
       "    }\n",
       "</style>\n",
       "<table border=\"1\" class=\"dataframe\">\n",
       "  <thead>\n",
       "    <tr style=\"text-align: right;\">\n",
       "      <th></th>\n",
       "      <th>Weather</th>\n",
       "      <th>Temperature</th>\n",
       "      <th>Humidity</th>\n",
       "      <th>Wind</th>\n",
       "      <th>Water</th>\n",
       "      <th>Forecast</th>\n",
       "      <th>EnjoySpot</th>\n",
       "    </tr>\n",
       "  </thead>\n",
       "  <tbody>\n",
       "    <tr>\n",
       "      <th>0</th>\n",
       "      <td>Sunny</td>\n",
       "      <td>Warm</td>\n",
       "      <td>Normal</td>\n",
       "      <td>Strong</td>\n",
       "      <td>Warm</td>\n",
       "      <td>Same</td>\n",
       "      <td>Yes</td>\n",
       "    </tr>\n",
       "    <tr>\n",
       "      <th>1</th>\n",
       "      <td>Sunny</td>\n",
       "      <td>Warm</td>\n",
       "      <td>High</td>\n",
       "      <td>Strong</td>\n",
       "      <td>Warm</td>\n",
       "      <td>Same</td>\n",
       "      <td>Yes</td>\n",
       "    </tr>\n",
       "    <tr>\n",
       "      <th>2</th>\n",
       "      <td>Rainy</td>\n",
       "      <td>Cold</td>\n",
       "      <td>High</td>\n",
       "      <td>Strong</td>\n",
       "      <td>Warm</td>\n",
       "      <td>Change</td>\n",
       "      <td>No</td>\n",
       "    </tr>\n",
       "    <tr>\n",
       "      <th>3</th>\n",
       "      <td>Sunny</td>\n",
       "      <td>Warm</td>\n",
       "      <td>High</td>\n",
       "      <td>Strong</td>\n",
       "      <td>Cool</td>\n",
       "      <td>Chnage</td>\n",
       "      <td>Yes</td>\n",
       "    </tr>\n",
       "  </tbody>\n",
       "</table>\n",
       "</div>"
      ],
      "text/plain": [
       "  Weather Temperature Humidity    Wind Water Forecast EnjoySpot\n",
       "0   Sunny        Warm   Normal  Strong  Warm     Same       Yes\n",
       "1   Sunny        Warm     High  Strong  Warm     Same       Yes\n",
       "2   Rainy        Cold     High  Strong  Warm   Change        No\n",
       "3   Sunny        Warm     High  Strong  Cool   Chnage       Yes"
      ]
     },
     "execution_count": 11,
     "metadata": {},
     "output_type": "execute_result"
    }
   ],
   "source": [
    "data.head()"
   ]
  },
  {
   "cell_type": "code",
   "execution_count": 12,
   "metadata": {
    "execution": {
     "iopub.execute_input": "2022-02-09T04:54:59.636962Z",
     "iopub.status.busy": "2022-02-09T04:54:59.636325Z",
     "iopub.status.idle": "2022-02-09T04:54:59.640404Z",
     "shell.execute_reply": "2022-02-09T04:54:59.639769Z",
     "shell.execute_reply.started": "2022-02-09T04:54:59.636914Z"
    }
   },
   "outputs": [],
   "source": [
    "#making an array of all the attributes\n",
    "a = np.array(data)\n",
    "concepts  = np.array(data)[:,:-1]"
   ]
  },
  {
   "cell_type": "code",
   "execution_count": 13,
   "metadata": {
    "execution": {
     "iopub.execute_input": "2022-02-09T04:55:12.187727Z",
     "iopub.status.busy": "2022-02-09T04:55:12.187296Z",
     "iopub.status.idle": "2022-02-09T04:55:12.194893Z",
     "shell.execute_reply": "2022-02-09T04:55:12.193371Z",
     "shell.execute_reply.started": "2022-02-09T04:55:12.187679Z"
    }
   },
   "outputs": [
    {
     "name": "stdout",
     "output_type": "stream",
     "text": [
      "[['Sunny' 'Warm' 'Normal' 'Strong' 'Warm' 'Same' 'Yes']\n",
      " ['Sunny' 'Warm' 'High' 'Strong' 'Warm' 'Same' 'Yes']\n",
      " ['Rainy' 'Cold' 'High' 'Strong' 'Warm' 'Change' 'No']\n",
      " ['Sunny' 'Warm' 'High' 'Strong' 'Cool' 'Chnage' 'Yes']]\n",
      "[['Sunny' 'Warm' 'Normal' 'Strong' 'Warm' 'Same']\n",
      " ['Sunny' 'Warm' 'High' 'Strong' 'Warm' 'Same']\n",
      " ['Rainy' 'Cold' 'High' 'Strong' 'Warm' 'Change']\n",
      " ['Sunny' 'Warm' 'High' 'Strong' 'Cool' 'Chnage']]\n",
      "4\n"
     ]
    }
   ],
   "source": [
    "#making an array of all the attributes\n",
    "print(a)\n",
    "print(concepts)\n",
    "print(len(concepts))"
   ]
  },
  {
   "cell_type": "code",
   "execution_count": 14,
   "metadata": {
    "execution": {
     "iopub.execute_input": "2022-02-09T04:55:45.126121Z",
     "iopub.status.busy": "2022-02-09T04:55:45.12583Z",
     "iopub.status.idle": "2022-02-09T04:55:45.130971Z",
     "shell.execute_reply": "2022-02-09T04:55:45.130393Z",
     "shell.execute_reply.started": "2022-02-09T04:55:45.126086Z"
    }
   },
   "outputs": [
    {
     "name": "stdout",
     "output_type": "stream",
     "text": [
      "The attributes are:  [['Sunny' 'Warm' 'Normal' 'Strong' 'Warm' 'Same']\n",
      " ['Sunny' 'Warm' 'High' 'Strong' 'Warm' 'Same']\n",
      " ['Rainy' 'Cold' 'High' 'Strong' 'Warm' 'Change']\n",
      " ['Sunny' 'Warm' 'High' 'Strong' 'Cool' 'Chnage']]\n",
      "Number of attribute 6\n"
     ]
    }
   ],
   "source": [
    "print(\"The attributes are: \",concepts)\n",
    "num_attribute = len(concepts[0])\n",
    "print(\"Number of attribute\", num_attribute)"
   ]
  },
  {
   "cell_type": "code",
   "execution_count": 15,
   "metadata": {
    "execution": {
     "iopub.execute_input": "2022-02-09T04:57:32.861374Z",
     "iopub.status.busy": "2022-02-09T04:57:32.860779Z",
     "iopub.status.idle": "2022-02-09T04:57:32.866458Z",
     "shell.execute_reply": "2022-02-09T04:57:32.865831Z",
     "shell.execute_reply.started": "2022-02-09T04:57:32.861335Z"
    }
   },
   "outputs": [
    {
     "name": "stdout",
     "output_type": "stream",
     "text": [
      "\n",
      "The initial hypothesis is : \n",
      "['0', '0', '0', '0', '0', '0']\n"
     ]
    }
   ],
   "source": [
    "print(\"\\nThe initial hypothesis is : \")\n",
    "hypothesis = ['0']*num_attribute\n",
    "print(hypothesis)"
   ]
  },
  {
   "cell_type": "code",
   "execution_count": 16,
   "metadata": {
    "execution": {
     "iopub.execute_input": "2022-02-09T04:58:14.202072Z",
     "iopub.status.busy": "2022-02-09T04:58:14.201681Z",
     "iopub.status.idle": "2022-02-09T04:58:14.205751Z",
     "shell.execute_reply": "2022-02-09T04:58:14.20484Z",
     "shell.execute_reply.started": "2022-02-09T04:58:14.202034Z"
    }
   },
   "outputs": [],
   "source": [
    "#segragating the target that has positive and negative examples\n",
    "target = np.array(data)[:,-1]"
   ]
  },
  {
   "cell_type": "code",
   "execution_count": 17,
   "metadata": {
    "execution": {
     "iopub.execute_input": "2022-02-09T04:58:24.831382Z",
     "iopub.status.busy": "2022-02-09T04:58:24.831124Z",
     "iopub.status.idle": "2022-02-09T04:58:24.835637Z",
     "shell.execute_reply": "2022-02-09T04:58:24.834821Z",
     "shell.execute_reply.started": "2022-02-09T04:58:24.831356Z"
    }
   },
   "outputs": [
    {
     "name": "stdout",
     "output_type": "stream",
     "text": [
      "The target is:  ['Yes' 'Yes' 'No' 'Yes']\n"
     ]
    }
   ],
   "source": [
    "print(\"The target is: \", target)"
   ]
  },
  {
   "cell_type": "code",
   "execution_count": 20,
   "metadata": {
    "execution": {
     "iopub.execute_input": "2022-02-09T05:01:08.392101Z",
     "iopub.status.busy": "2022-02-09T05:01:08.391297Z",
     "iopub.status.idle": "2022-02-09T05:01:08.401239Z",
     "shell.execute_reply": "2022-02-09T05:01:08.400336Z",
     "shell.execute_reply.started": "2022-02-09T05:01:08.39205Z"
    }
   },
   "outputs": [],
   "source": [
    "def learn(concepts, target): \n",
    "    specific_h = concepts[0].copy() \n",
    "    general_h = [[\"?\" for i in range(len(specific_h))]\n",
    "                 for i in range(len(specific_h))] \n",
    "    print(\"initialization of specific_h and general_h\")\n",
    "    print(specific_h) \n",
    "    print(general_h)\n",
    "    for i, h in enumerate(concepts):\n",
    "        if target[i] == \"Yes\":\n",
    "             for x in range(len(specific_h)):\n",
    "                     if h[x]!= specific_h[x]:\n",
    "                             specific_h[x] ='?'\n",
    "                             general_h[x][x] ='?'\n",
    "                             print(specific_h)\n",
    "                             print(specific_h)\n",
    "        if target[i] == \"No\":\n",
    "            for x in range(len(specific_h)):\n",
    "                     if h[x]!= specific_h[x]:\n",
    "                         general_h[x][x] = specific_h[x]\n",
    "                     else:\n",
    "                         general_h[x][x] = '?'\n",
    "                         print(\" steps of Candidate Elimination Algorithm\",i+1)\n",
    "                         print(specific_h)\n",
    "                         print(general_h)\n",
    "    indices = [i for i, val in enumerate(general_h)\n",
    "               if val == ['?', '?', '?', '?', '?', '?']]\n",
    "    for i in indices:\n",
    "         general_h.remove(['?', '?', '?', '?', '?', '?'])\n",
    "    return specific_h, general_h\n"
   ]
  },
  {
   "cell_type": "code",
   "execution_count": 19,
   "metadata": {
    "execution": {
     "iopub.execute_input": "2022-02-09T05:01:39.108414Z",
     "iopub.status.busy": "2022-02-09T05:01:39.107906Z",
     "iopub.status.idle": "2022-02-09T05:01:39.117028Z",
     "shell.execute_reply": "2022-02-09T05:01:39.114921Z",
     "shell.execute_reply.started": "2022-02-09T05:01:39.10838Z"
    }
   },
   "outputs": [
    {
     "name": "stdout",
     "output_type": "stream",
     "text": [
      "initialization of specific_h and general_h\n",
      "['Sunny' 'Warm' 'Normal' 'Strong' 'Warm' 'Same']\n",
      "[['?', '?', '?', '?', '?', '?'], ['?', '?', '?', '?', '?', '?'], ['?', '?', '?', '?', '?', '?'], ['?', '?', '?', '?', '?', '?'], ['?', '?', '?', '?', '?', '?'], ['?', '?', '?', '?', '?', '?']]\n",
      "['Sunny' 'Warm' '?' 'Strong' 'Warm' 'Same']\n",
      "['Sunny' 'Warm' '?' 'Strong' 'Warm' 'Same']\n",
      " steps of Candidate Elimination Algorithm 3\n",
      "['Sunny' 'Warm' '?' 'Strong' 'Warm' 'Same']\n",
      "[['Sunny', '?', '?', '?', '?', '?'], ['?', 'Warm', '?', '?', '?', '?'], ['?', '?', '?', '?', '?', '?'], ['?', '?', '?', '?', '?', '?'], ['?', '?', '?', '?', '?', '?'], ['?', '?', '?', '?', '?', '?']]\n",
      " steps of Candidate Elimination Algorithm 3\n",
      "['Sunny' 'Warm' '?' 'Strong' 'Warm' 'Same']\n",
      "[['Sunny', '?', '?', '?', '?', '?'], ['?', 'Warm', '?', '?', '?', '?'], ['?', '?', '?', '?', '?', '?'], ['?', '?', '?', '?', '?', '?'], ['?', '?', '?', '?', '?', '?'], ['?', '?', '?', '?', '?', '?']]\n",
      "['Sunny' 'Warm' '?' 'Strong' 'Warm' 'Same']\n",
      "['Sunny' 'Warm' '?' 'Strong' 'Warm' 'Same']\n",
      "['Sunny' 'Warm' '?' 'Strong' '?' 'Same']\n",
      "['Sunny' 'Warm' '?' 'Strong' '?' 'Same']\n",
      "['Sunny' 'Warm' '?' 'Strong' '?' '?']\n",
      "['Sunny' 'Warm' '?' 'Strong' '?' '?']\n",
      "Final Specific_h:\n",
      "['Sunny' 'Warm' '?' 'Strong' '?' '?']\n",
      "Final general_h:\n",
      "[['Sunny', '?', '?', '?', '?', '?'], ['?', 'Warm', '?', '?', '?', '?']]\n"
     ]
    }
   ],
   "source": [
    "s_final, g_final = learn(concepts, target)\n",
    "print(\"Final Specific_h:\", s_final, sep=\"\\n\")\n",
    "print(\"Final general_h:\", g_final, sep=\"\\n\")"
   ]
  },
  {
   "cell_type": "code",
   "execution_count": null,
   "metadata": {},
   "outputs": [],
   "source": []
  }
 ],
 "metadata": {
  "kernelspec": {
   "display_name": "Python 3 (ipykernel)",
   "language": "python",
   "name": "python3"
  },
  "language_info": {
   "codemirror_mode": {
    "name": "ipython",
    "version": 3
   },
   "file_extension": ".py",
   "mimetype": "text/x-python",
   "name": "python",
   "nbconvert_exporter": "python",
   "pygments_lexer": "ipython3",
   "version": "3.9.13"
  }
 },
 "nbformat": 4,
 "nbformat_minor": 4
}
